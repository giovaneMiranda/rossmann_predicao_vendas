{
 "cells": [
  {
   "cell_type": "markdown",
   "id": "d7f7e410",
   "metadata": {
    "heading_collapsed": true
   },
   "source": [
    "#  0.0 Introdução "
   ]
  },
  {
   "cell_type": "markdown",
   "id": "2b361780",
   "metadata": {
    "heading_collapsed": true,
    "hidden": true
   },
   "source": [
    "## 0.1 Problema  de Negócio"
   ]
  },
  {
   "cell_type": "markdown",
   "id": "13a6c390",
   "metadata": {
    "hidden": true
   },
   "source": [
    "Rossmann opera mais de 3.000 drogarias em 7 países europeus. Atualmente, os gerentes de loja da Rossmann têm a tarefa de prever suas vendas diárias com até seis semanas de antecedência. \n",
    "\n",
    "**Motivação:** A previsão de vendas foi requisitada pelo CFO em uma reunião mensal sobre os resultados das lojas. \n",
    "\n",
    "**Causa Raiz:** Necessidade de realizar reformas nas lojas, necessitando um aporte de dinheiro para concluir essas reformas. \n",
    "\n",
    "Assim, deve ser respondido as seguintes perguntas: \n",
    "- Qual sera o valor das vendas diarias para as lojas nas proximas 6 semanas? "
   ]
  },
  {
   "cell_type": "markdown",
   "id": "2c64d27a",
   "metadata": {
    "heading_collapsed": true,
    "hidden": true
   },
   "source": [
    "## 0.2 Planejamento da Entrega "
   ]
  },
  {
   "cell_type": "markdown",
   "id": "416e65a0",
   "metadata": {
    "hidden": true
   },
   "source": [
    "1. Resposta \n",
    "> previsão das vendas \n",
    "\n",
    "2. Formato de entrega\n",
    "> Json com a previsão para cada loja \n",
    "\n",
    "3. Local de entrega \n",
    "> API "
   ]
  },
  {
   "cell_type": "markdown",
   "id": "4239e42d",
   "metadata": {
    "heading_collapsed": true,
    "hidden": true
   },
   "source": [
    "## 0.3 Planejamento do Processo "
   ]
  },
  {
   "cell_type": "markdown",
   "id": "eebd29d2",
   "metadata": {
    "hidden": true
   },
   "source": [
    "- Merger dados de treino e features de lojas pelo id da loja. \n",
    "- Tratamento de dados faltantes\n",
    "- Mapa mental de Hipoteses. \n",
    "- Criação de novas Features e filtrar variaveis\n",
    "- EDA\n",
    "- Modelar dados(Normalização, rescaling, Encoding)\n",
    "- Selecao de variaveis por importancia(Random Florest) \n",
    "- Modelar algoritmo e crosvalidation\n",
    "- Fine tuning\n",
    "- Avaliação do algoritmo e Performance de Negocio\n",
    "- Criar Classe para preparar o dado e aplicar previsao\n",
    "- Criar API Handler \n",
    "- Realizar Deploy"
   ]
  },
  {
   "cell_type": "markdown",
   "id": "bbf6a678",
   "metadata": {
    "hidden": true
   },
   "source": [
    "##  0.4 Planejamento de Entrega "
   ]
  },
  {
   "cell_type": "markdown",
   "id": "8e0067c0",
   "metadata": {
    "hidden": true
   },
   "source": [
    "1. Fontes dos Dados\n",
    "- **Kaggle** https://www.kaggle.com/c/rossmann-store-sales/data\n",
    "\n",
    "2. Ferramentas \n",
    "- Python 3.8 \n",
    "- jupyter Notebook \n",
    "- Pycharm\n",
    "- sklearn\n",
    "- coggle"
   ]
  },
  {
   "cell_type": "markdown",
   "id": "2b4b0496",
   "metadata": {},
   "source": [
    "# 1.0 Imports"
   ]
  },
  {
   "cell_type": "code",
   "execution_count": 19,
   "id": "e162bd91",
   "metadata": {
    "ExecuteTime": {
     "end_time": "2021-08-31T23:47:04.240395Z",
     "start_time": "2021-08-31T23:47:04.237662Z"
    }
   },
   "outputs": [],
   "source": [
    "import pandas as pd\n",
    "import inflection"
   ]
  },
  {
   "cell_type": "markdown",
   "id": "512870db",
   "metadata": {},
   "source": [
    "## 1.1 Funções de Ajuda"
   ]
  },
  {
   "cell_type": "markdown",
   "id": "a9686963",
   "metadata": {},
   "source": [
    "## 1.2 Carregando Dados"
   ]
  },
  {
   "cell_type": "code",
   "execution_count": 5,
   "id": "b1f6ee22",
   "metadata": {
    "ExecuteTime": {
     "end_time": "2021-08-31T23:37:19.238723Z",
     "start_time": "2021-08-31T23:37:18.768214Z"
    }
   },
   "outputs": [],
   "source": [
    "df_sales_raw = pd.read_csv('../data/raw/train.csv', low_memory=False)\n",
    "df_store_raw = pd.read_csv('../data/raw/store.csv', low_memory=False)"
   ]
  },
  {
   "cell_type": "code",
   "execution_count": 9,
   "id": "ee87fe80",
   "metadata": {
    "ExecuteTime": {
     "end_time": "2021-08-31T23:40:08.241737Z",
     "start_time": "2021-08-31T23:40:07.962804Z"
    }
   },
   "outputs": [],
   "source": [
    "df_raw = pd.merge(df_sales_raw, df_store_raw, how='left', on = 'Store')"
   ]
  },
  {
   "cell_type": "markdown",
   "id": "7a2c9dcd",
   "metadata": {},
   "source": [
    "# 2.0 Analise Descritiva "
   ]
  },
  {
   "cell_type": "code",
   "execution_count": 16,
   "id": "ef8aacb7",
   "metadata": {
    "ExecuteTime": {
     "end_time": "2021-08-31T23:44:53.409962Z",
     "start_time": "2021-08-31T23:44:53.022677Z"
    }
   },
   "outputs": [],
   "source": [
    "# check point \n",
    "df2 = df_raw.copy()"
   ]
  },
  {
   "cell_type": "markdown",
   "id": "23652686",
   "metadata": {
    "heading_collapsed": true
   },
   "source": [
    "##  2.1 Renomear Colunas"
   ]
  },
  {
   "cell_type": "code",
   "execution_count": 20,
   "id": "464142a0",
   "metadata": {
    "ExecuteTime": {
     "end_time": "2021-08-31T23:49:03.342277Z",
     "start_time": "2021-08-31T23:49:03.339743Z"
    },
    "hidden": true
   },
   "outputs": [],
   "source": [
    "cols_old = df2.columns\n",
    "snake_case = lambda x : inflection.underscore(x)\n",
    "cols_new = list(map(snake_case, cols_old))\n",
    "\n",
    "# rename cols\n",
    "df2.columns = cols_new"
   ]
  },
  {
   "cell_type": "markdown",
   "id": "a6bb54a4",
   "metadata": {
    "heading_collapsed": true
   },
   "source": [
    "## 2.2 Dimensão dos Dados"
   ]
  },
  {
   "cell_type": "markdown",
   "id": "974e3367",
   "metadata": {
    "hidden": true
   },
   "source": [
    "O dataset possui 1017209 linhas e 18 colunas. "
   ]
  },
  {
   "cell_type": "code",
   "execution_count": 26,
   "id": "86111028",
   "metadata": {
    "ExecuteTime": {
     "end_time": "2021-08-31T23:53:35.480985Z",
     "start_time": "2021-08-31T23:53:35.477789Z"
    },
    "hidden": true
   },
   "outputs": [
    {
     "data": {
      "text/plain": [
       "(1017209, 18)"
      ]
     },
     "execution_count": 26,
     "metadata": {},
     "output_type": "execute_result"
    }
   ],
   "source": [
    "df2.shape"
   ]
  },
  {
   "cell_type": "markdown",
   "id": "0ae62eb4",
   "metadata": {},
   "source": [
    "## 2.3 Tipo dos Atributos"
   ]
  },
  {
   "cell_type": "code",
   "execution_count": 35,
   "id": "aa60181a",
   "metadata": {
    "ExecuteTime": {
     "end_time": "2021-08-31T23:57:31.794168Z",
     "start_time": "2021-08-31T23:57:31.790786Z"
    }
   },
   "outputs": [
    {
     "data": {
      "text/plain": [
       "store                                    int64\n",
       "day_of_week                              int64\n",
       "date                            datetime64[ns]\n",
       "sales                                    int64\n",
       "customers                                int64\n",
       "open                                     int64\n",
       "promo                                    int64\n",
       "state_holiday                           object\n",
       "school_holiday                           int64\n",
       "store_type                              object\n",
       "assortment                              object\n",
       "competition_distance                   float64\n",
       "competition_open_since_month           float64\n",
       "competition_open_since_year            float64\n",
       "promo2                                   int64\n",
       "promo2_since_week                      float64\n",
       "promo2_since_year                      float64\n",
       "promo_interval                          object\n",
       "dtype: object"
      ]
     },
     "execution_count": 35,
     "metadata": {},
     "output_type": "execute_result"
    }
   ],
   "source": [
    "# verificando o tipo dos atributos\n",
    "df2.dtypes"
   ]
  },
  {
   "cell_type": "code",
   "execution_count": 32,
   "id": "15b6bab0",
   "metadata": {
    "ExecuteTime": {
     "end_time": "2021-08-31T23:57:13.579365Z",
     "start_time": "2021-08-31T23:57:13.507991Z"
    }
   },
   "outputs": [],
   "source": [
    "# Alterando o tipo da coluna 'date' de OBJECT para DATETIME\n",
    "df2['date'] = pd.to_datetime(df2['date'], format='%Y-%m-%d')"
   ]
  },
  {
   "cell_type": "markdown",
   "id": "48fdcac4",
   "metadata": {},
   "source": [
    "## 2.4 Dados Faltantes(NA)"
   ]
  },
  {
   "cell_type": "markdown",
   "id": "3b931eee",
   "metadata": {},
   "source": [
    "O dataset possui 6 colunas que contem linhas vazias. (podendo prejudicar a performance dos algoritmos)\n",
    "- competition_distance\n",
    "- competition_open_since_month\n",
    "- competition_open_since_year\n",
    "- promo2_since_week\n",
    "- promo2_since_year\n",
    "- promo_interval\n",
    "\n",
    "**Por que estao NA? Regra de negocio?**"
   ]
  },
  {
   "cell_type": "code",
   "execution_count": 36,
   "id": "b59aab70",
   "metadata": {
    "ExecuteTime": {
     "end_time": "2021-08-31T23:58:44.370520Z",
     "start_time": "2021-08-31T23:58:44.240672Z"
    }
   },
   "outputs": [
    {
     "data": {
      "text/plain": [
       "store                                0\n",
       "day_of_week                          0\n",
       "date                                 0\n",
       "sales                                0\n",
       "customers                            0\n",
       "open                                 0\n",
       "promo                                0\n",
       "state_holiday                        0\n",
       "school_holiday                       0\n",
       "store_type                           0\n",
       "assortment                           0\n",
       "competition_distance              2642\n",
       "competition_open_since_month    323348\n",
       "competition_open_since_year     323348\n",
       "promo2                               0\n",
       "promo2_since_week               508031\n",
       "promo2_since_year               508031\n",
       "promo_interval                  508031\n",
       "dtype: int64"
      ]
     },
     "execution_count": 36,
     "metadata": {},
     "output_type": "execute_result"
    }
   ],
   "source": [
    "df2.isna().sum()"
   ]
  },
  {
   "cell_type": "code",
   "execution_count": null,
   "id": "953ca1d2",
   "metadata": {},
   "outputs": [],
   "source": []
  }
 ],
 "metadata": {
  "kernelspec": {
   "display_name": "vendasPredicao",
   "language": "python",
   "name": "vendaspredicao"
  },
  "language_info": {
   "codemirror_mode": {
    "name": "ipython",
    "version": 3
   },
   "file_extension": ".py",
   "mimetype": "text/x-python",
   "name": "python",
   "nbconvert_exporter": "python",
   "pygments_lexer": "ipython3",
   "version": "3.8.10"
  }
 },
 "nbformat": 4,
 "nbformat_minor": 5
}
